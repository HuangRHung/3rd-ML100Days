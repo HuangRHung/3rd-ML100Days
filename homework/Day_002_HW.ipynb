{
 "cells": [
  {
   "cell_type": "markdown",
   "metadata": {},
   "source": [
    "## [作業目標]\n",
    "了解機器學習適合應用的領域與範疇。"
   ]
  },
  {
   "cell_type": "markdown",
   "metadata": {},
   "source": [
    "## [作業重點]\n",
    "透過瞭解機器學習的運作方式，找出非常適用機器學習應用的領域及其原因"
   ]
  },
  {
   "cell_type": "markdown",
   "metadata": {},
   "source": [
    "## 作業\n",
    "請找出一個你認為機器學習可以發光發熱的領域並闡述原因? "
   ]
  },
  {
   "cell_type": "code",
   "execution_count": 1,
   "metadata": {},
   "outputs": [
    {
     "ename": "SyntaxError",
     "evalue": "invalid character in identifier (<ipython-input-1-cc0b000bdea1>, line 1)",
     "output_type": "error",
     "traceback": [
      "\u001b[0;36m  File \u001b[0;32m\"<ipython-input-1-cc0b000bdea1>\"\u001b[0;36m, line \u001b[0;32m1\u001b[0m\n\u001b[0;31m    我們知道台灣逐漸朝向人口高齡化做邁進，照顧家裡長者就變成非常重要，而往往現在的人都沒有與家裡的長者一起居住，假使家中的長者又是一個人居住的話\u001b[0m\n\u001b[0m                                                                         ^\u001b[0m\n\u001b[0;31mSyntaxError\u001b[0m\u001b[0;31m:\u001b[0m invalid character in identifier\n"
     ]
    }
   ],
   "source": [
    "我們知道台灣逐漸朝向人口高齡化做邁進，照顧家裡長者就變成非常重要，而往往現在的人都沒有與家裡的長者一起居住，假使家中的長者又是一個人居住的話\n",
    "，往往發生突發狀況時沒有人知道，而在家中或浴室跌倒都沒有人知道，進而錯過最佳時機、發生憾事，如果能利用機器學習的方式讓監視器學習如果有類似跌\n",
    "倒的情形發生時，應立即通報，或是久待在浴室未出來，也發出警訊給家裡的人知道，未來醫療健康的領域應該會是人們日漸重視的領域，不論是在老人或是\n",
    "癌細胞判別等等。"
   ]
  },
  {
   "cell_type": "code",
   "execution_count": null,
   "metadata": {},
   "outputs": [],
   "source": []
  }
 ],
 "metadata": {
  "kernelspec": {
   "display_name": "Python 3",
   "language": "python",
   "name": "python3"
  },
  "language_info": {
   "codemirror_mode": {
    "name": "ipython",
    "version": 3
   },
   "file_extension": ".py",
   "mimetype": "text/x-python",
   "name": "python",
   "nbconvert_exporter": "python",
   "pygments_lexer": "ipython3",
   "version": "3.7.3"
  }
 },
 "nbformat": 4,
 "nbformat_minor": 2
}
