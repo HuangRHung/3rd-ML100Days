{
 "cells": [
  {
   "cell_type": "markdown",
   "metadata": {},
   "source": [
    "## [作業重點]\n",
    "使用 Sklearn 中的 Lasso, Ridge 模型，來訓練各種資料集，務必了解送進去模型訓練的**資料型態**為何，也請了解模型中各項參數的意義。\n",
    "\n",
    "機器學習的模型非常多種，但要訓練的資料多半有固定的格式，確保你了解訓練資料的格式為何，這樣在應用新模型時，就能夠最快的上手開始訓練！"
   ]
  },
  {
   "cell_type": "markdown",
   "metadata": {},
   "source": [
    "## 練習時間\n",
    "試著使用 sklearn datasets 的其他資料集 (boston, ...)，來訓練自己的線性迴歸模型，並加上適當的正則化來觀察訓練情形。"
   ]
  },
  {
   "cell_type": "code",
   "execution_count": 1,
   "metadata": {},
   "outputs": [],
   "source": [
    "import numpy as np\n",
    "import matplotlib.pyplot as plt\n",
    "from sklearn import datasets, linear_model\n",
    "from sklearn.model_selection import train_test_split\n",
    "from sklearn.metrics import mean_squared_error, r2_score"
   ]
  },
  {
   "cell_type": "code",
   "execution_count": 6,
   "metadata": {},
   "outputs": [],
   "source": [
    "X_boston=datasets.load_boston().data\n",
    "y_boston=datasets.load_boston().target\n",
    "\n",
    "X_train_boston,X_test_boston,y_train_boston,y_test_boston = train_test_split(X_boston,y_boston,test_size=0.2, random_state=4)\n",
    "\n",
    "reg_Lasso = linear_model.Lasso(alpha=1.0)\n",
    "\n",
    "reg_Lasso.fit(X_train_boston,y_train_boston)\n",
    "\n",
    "y_pred=reg_Lasso.predict(X_test_boston)"
   ]
  },
  {
   "cell_type": "code",
   "execution_count": 7,
   "metadata": {},
   "outputs": [
    {
     "data": {
      "text/plain": [
       "array([-0.06494981,  0.04581458, -0.        ,  0.        , -0.        ,\n",
       "        1.18140024,  0.01109101, -0.73695809,  0.23350042, -0.01551065,\n",
       "       -0.69270805,  0.00763157, -0.6927848 ])"
      ]
     },
     "execution_count": 7,
     "metadata": {},
     "output_type": "execute_result"
    }
   ],
   "source": [
    "reg_Lasso.coef_"
   ]
  },
  {
   "cell_type": "code",
   "execution_count": 8,
   "metadata": {},
   "outputs": [
    {
     "name": "stdout",
     "output_type": "stream",
     "text": [
      "Mean squared error: 28.95\n"
     ]
    }
   ],
   "source": [
    "# 預測值與實際值的差距，使用 MSE\n",
    "print(\"Mean squared error: %.2f\"\n",
    "      % mean_squared_error(y_test_boston, y_pred))"
   ]
  },
  {
   "cell_type": "code",
   "execution_count": 17,
   "metadata": {},
   "outputs": [],
   "source": [
    "bri_reg=linear_model.Ridge(alpha=1.0)\n",
    "bri_reg.fit(X_train_boston,y_train_boston)\n",
    "y_pred_boston_bri=bri_reg.predict(X_test_boston)"
   ]
  },
  {
   "cell_type": "code",
   "execution_count": 18,
   "metadata": {},
   "outputs": [
    {
     "data": {
      "text/plain": [
       "array([-1.12499445e-01,  4.79562332e-02, -2.40438147e-02,  2.96199458e+00,\n",
       "       -9.33966118e+00,  3.93079015e+00, -1.73821202e-02, -1.43347691e+00,\n",
       "        2.75239392e-01, -1.38920708e-02, -8.31116943e-01,  9.15637729e-03,\n",
       "       -4.66460539e-01])"
      ]
     },
     "execution_count": 18,
     "metadata": {},
     "output_type": "execute_result"
    }
   ],
   "source": [
    "bri_reg.coef_"
   ]
  },
  {
   "cell_type": "code",
   "execution_count": 19,
   "metadata": {},
   "outputs": [
    {
     "name": "stdout",
     "output_type": "stream",
     "text": [
      "Mean squared error: 25.74\n"
     ]
    }
   ],
   "source": [
    "# 預測值與實際值的差距，使用 MSE\n",
    "print(\"Mean squared error: %.2f\"\n",
    "      % mean_squared_error(y_test_boston, y_pred_boston_bri))"
   ]
  },
  {
   "cell_type": "code",
   "execution_count": 10,
   "metadata": {},
   "outputs": [],
   "source": [
    "X_linnerud=datasets.load_linnerud().data\n",
    "y_linnerud=datasets.load_linnerud().target\n",
    "\n",
    "X_train_linnerud,X_test_linnerud,y_train_linnerud,y_test_linnerud = train_test_split(X_linnerud,y_linnerud,test_size=0.2, random_state=4)\n",
    "\n",
    "reg_Lasso_linnerud = linear_model.Lasso(alpha=1.0)\n",
    "\n",
    "reg_Lasso_linnerud.fit(X_train_linnerud,y_train_linnerud)\n",
    "\n",
    "y_pred_linnerud=reg_Lasso_linnerud.predict(X_test_linnerud)"
   ]
  },
  {
   "cell_type": "code",
   "execution_count": 11,
   "metadata": {},
   "outputs": [
    {
     "data": {
      "text/plain": [
       "array([[-1.21702413, -0.18301572,  0.07085454],\n",
       "       [-0.16500267, -0.04240416,  0.02848377],\n",
       "       [ 0.10302969,  0.05543243, -0.03005608]])"
      ]
     },
     "execution_count": 11,
     "metadata": {},
     "output_type": "execute_result"
    }
   ],
   "source": [
    "reg_Lasso_linnerud.coef_"
   ]
  },
  {
   "cell_type": "code",
   "execution_count": 12,
   "metadata": {},
   "outputs": [
    {
     "name": "stdout",
     "output_type": "stream",
     "text": [
      "Mean squared error: 382.88\n"
     ]
    }
   ],
   "source": [
    "print(\"Mean squared error: %.2f\"\n",
    "      % mean_squared_error(y_test_linnerud, y_pred_linnerud))"
   ]
  },
  {
   "cell_type": "code",
   "execution_count": 13,
   "metadata": {},
   "outputs": [],
   "source": [
    "bri_reg=linear_model.Ridge(alpha=1.0)\n",
    "bri_reg.fit(X_train_linnerud,y_train_linnerud)\n",
    "y_pred_linnerud_bri=bri_reg.predict(X_test_linnerud)"
   ]
  },
  {
   "cell_type": "code",
   "execution_count": 14,
   "metadata": {},
   "outputs": [
    {
     "data": {
      "text/plain": [
       "array([[-1.28169016, -0.18036401,  0.072403  ],\n",
       "       [-0.23446277, -0.03950683,  0.03008403],\n",
       "       [ 0.17278069,  0.05251903, -0.03165848]])"
      ]
     },
     "execution_count": 14,
     "metadata": {},
     "output_type": "execute_result"
    }
   ],
   "source": [
    "bri_reg.coef_"
   ]
  },
  {
   "cell_type": "code",
   "execution_count": 15,
   "metadata": {},
   "outputs": [
    {
     "name": "stdout",
     "output_type": "stream",
     "text": [
      "Mean squared error: 385.93\n"
     ]
    }
   ],
   "source": [
    "print(\"Mean squared error: %.2f\"\n",
    "      % mean_squared_error(y_test_linnerud, y_pred_linnerud_bri))"
   ]
  },
  {
   "cell_type": "code",
   "execution_count": null,
   "metadata": {},
   "outputs": [],
   "source": []
  }
 ],
 "metadata": {
  "kernelspec": {
   "display_name": "Python 3",
   "language": "python",
   "name": "python3"
  },
  "language_info": {
   "codemirror_mode": {
    "name": "ipython",
    "version": 3
   },
   "file_extension": ".py",
   "mimetype": "text/x-python",
   "name": "python",
   "nbconvert_exporter": "python",
   "pygments_lexer": "ipython3",
   "version": "3.7.3"
  }
 },
 "nbformat": 4,
 "nbformat_minor": 2
}
